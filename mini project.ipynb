{
 "cells": [
  {
   "cell_type": "code",
   "execution_count": 27,
   "metadata": {},
   "outputs": [],
   "source": [
    "from tkinter import *\n",
    "#from tkinter import ttk\n",
    "from google_trans_new import google_translator\n",
    "\n",
    "root = Tk()\n",
    "\n",
    "root.geometry(\"650x600\")\n",
    "root.title(\"Language Translator\")\n",
    "\n",
    "tittle = Label(root, text='Language Translator', bd=8, relief=GROOVE, font = (\"times new roman\", 30, \"bold\"), bg='#3498DB', fg='black')\n",
    "tittle.pack(side=TOP, fill=X)\n",
    "\n",
    "in_frame = Frame(root, bd=3, relief = RIDGE, bg='#3498DB')\n",
    "in_frame.place(x=10, y=70, width = 630, height = 520)\n",
    "\n",
    "label1 = Label(in_frame, text = 'Enter Text', font = (\"times new roman\", 20, \"bold\"), bg='#3498DB', fg='white')\n",
    "label1.pack()\n",
    "\n",
    "text = Text(in_frame, width=50, height=4, font = (\"times new roman\", 15), bd=5, relief=GROOVE)\n",
    "text.pack()\n",
    "\n",
    "label2 = Label(in_frame, text = 'Choose Language To Translate: ', font = (\"times new roman\", 20, \"bold\"), bg='#3498DB', fg='white')\n",
    "label2.place(y=170)\n",
    "\n",
    "langs = ttk.Combobox(in_frame, font = (\"times new roman\", 13, \"bold\"), state='readonly')\n",
    "langs['values'] = ('English', 'Arabic', 'Bulgarian', 'Chinese', 'French', 'Greek', 'Gujarati', 'Hindi', 'Punjabi', 'Malayalam', 'Irish', 'Italian', 'Japanese', 'Korean', 'Latin', 'Russian', 'Spanish', 'Telugu', 'Urdu', 'Zulu')\n",
    "langs.place(x=400,y=175)\n",
    "\n",
    "\n",
    "def get_output():\n",
    "    Dict={'English':'en','Arabic':'ar', 'Bulgarian':'bg', 'Chinese':'zh-cn', 'French':'fr', 'Greek':'el', 'Gujarati':'gu', 'Hindi':'hi','Punjabi':'pa', 'Malayalam':'ml', 'Irish':'ga', 'Italian':'it', 'Japanese':'ja', 'Korean':'ko', 'Latin':'la', 'Russian':'ru', 'Spanish':'es', 'Telugu':'te', 'Urdu':'ur', 'Zulu':'zu'}\n",
    "    output.delete('1.0', 'end')\n",
    "    translator=google_translator()\n",
    "    txt = text.get('1.0', 'end')\n",
    "    ans=translator.translate(txt, lang_tgt=Dict[langs.get()])\n",
    "    output.insert(0.0, ans)\n",
    "\n",
    "\n",
    "translate_btn = Button(in_frame, text = 'TRANSLATE', command=get_output, font = (\"times new roman\", 15, \"bold\"))\n",
    "translate_btn.place(x=250, y=250)\n",
    "\n",
    "\n",
    "label3 = Label(in_frame, text = 'Translated Text', font = (\"times new roman\", 20, \"bold\"), bg='#3498DB', fg='white')\n",
    "label3.place(x=220, y=320)\n",
    "\n",
    "output = Text(in_frame, width=46, height=4, font = (\"arial\", 15), bd=5, relief=GROOVE, pady=10)\n",
    "output.place(x=50, y=360)\n",
    "\n",
    "root.mainloop()\n"
   ]
  },
  {
   "cell_type": "code",
   "execution_count": null,
   "metadata": {},
   "outputs": [],
   "source": []
  }
 ],
 "metadata": {
  "kernelspec": {
   "display_name": "Python 3",
   "language": "python",
   "name": "python3"
  },
  "language_info": {
   "codemirror_mode": {
    "name": "ipython",
    "version": 3
   },
   "file_extension": ".py",
   "mimetype": "text/x-python",
   "name": "python",
   "nbconvert_exporter": "python",
   "pygments_lexer": "ipython3",
   "version": "3.8.5"
  }
 },
 "nbformat": 4,
 "nbformat_minor": 4
}
